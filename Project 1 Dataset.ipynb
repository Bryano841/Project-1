{
 "cells": [
  {
   "cell_type": "code",
   "execution_count": 35,
   "metadata": {},
   "outputs": [],
   "source": [
    "import pandas as pd\n",
    "\n",
    "dc_df = pd.read_csv(\"Resources/dc-wikia-data.csv\")\n",
    "marvel_df = pd.read_csv(\"Resources/marvel-wikia-data.csv\")\n",
    "\n",
    "dc_df[\"Universe\"]=\"DC\"\n",
    "marvel_df[\"Universe\"]=\"Marvel\"\n",
    "\n",
    "marvel_df = marvel_df.rename(columns={\"Year\" : \"YEAR\"})"
   ]
  },
  {
   "cell_type": "code",
   "execution_count": 36,
   "metadata": {},
   "outputs": [
    {
     "data": {
      "text/plain": [
       "page_id             23272\n",
       "name                23272\n",
       "urlslug             23272\n",
       "ID                  17489\n",
       "ALIGN               19859\n",
       "EYE                  9877\n",
       "HAIR                16734\n",
       "SEX                 22293\n",
       "GSM                   154\n",
       "ALIVE               23266\n",
       "APPEARANCES         21821\n",
       "FIRST APPEARANCE    22388\n",
       "YEAR                22388\n",
       "Universe            23272\n",
       "dtype: int64"
      ]
     },
     "execution_count": 36,
     "metadata": {},
     "output_type": "execute_result"
    }
   ],
   "source": [
    "main_df = dc_df.append(marvel_df,ignore_index = True)\n",
    "main_df.count()"
   ]
  },
  {
   "cell_type": "code",
   "execution_count": 33,
   "metadata": {},
   "outputs": [],
   "source": []
  },
  {
   "cell_type": "code",
   "execution_count": null,
   "metadata": {},
   "outputs": [],
   "source": []
  }
 ],
 "metadata": {
  "kernelspec": {
   "display_name": "Python 3",
   "language": "python",
   "name": "python3"
  },
  "language_info": {
   "codemirror_mode": {
    "name": "ipython",
    "version": 3
   },
   "file_extension": ".py",
   "mimetype": "text/x-python",
   "name": "python",
   "nbconvert_exporter": "python",
   "pygments_lexer": "ipython3",
   "version": "3.7.3"
  }
 },
 "nbformat": 4,
 "nbformat_minor": 2
}
